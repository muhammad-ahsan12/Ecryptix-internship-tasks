{
  "nbformat": 4,
  "nbformat_minor": 0,
  "metadata": {
    "colab": {
      "provenance": [],
      "gpuType": "T4"
    },
    "kernelspec": {
      "name": "python3",
      "display_name": "Python 3"
    },
    "language_info": {
      "name": "python"
    },
    "accelerator": "GPU"
  },
  "cells": [
    {
      "cell_type": "code",
      "execution_count": 3,
      "metadata": {
        "colab": {
          "base_uri": "https://localhost:8080/"
        },
        "id": "uAbHnRW5G90e",
        "outputId": "d80f5667-5061-4bdc-8154-891ae62e9b79"
      },
      "outputs": [
        {
          "output_type": "stream",
          "name": "stdout",
          "text": [
            "Collecting tesseract\n",
            "  Downloading tesseract-0.1.3.tar.gz (45.6 MB)\n",
            "\u001b[2K     \u001b[90m━━━━━━━━━━━━━━━━━━━━━━━━━━━━━━━━━━━━━━━━\u001b[0m \u001b[32m45.6/45.6 MB\u001b[0m \u001b[31m18.1 MB/s\u001b[0m eta \u001b[36m0:00:00\u001b[0m\n",
            "\u001b[?25h  Preparing metadata (setup.py) ... \u001b[?25l\u001b[?25hdone\n",
            "Building wheels for collected packages: tesseract\n",
            "  Building wheel for tesseract (setup.py) ... \u001b[?25l\u001b[?25hdone\n",
            "  Created wheel for tesseract: filename=tesseract-0.1.3-py3-none-any.whl size=45562552 sha256=67fe9cd108f3b7ca1533af5a91a5e6d08ad7d9d5a77bf67ebe600bfab23c3e57\n",
            "  Stored in directory: /root/.cache/pip/wheels/71/c9/aa/698c579693e83fdda9ad6d6f0d8f61ed986e27925ef576f109\n",
            "Successfully built tesseract\n",
            "Installing collected packages: tesseract\n",
            "Successfully installed tesseract-0.1.3\n",
            "Collecting easyocr\n",
            "  Downloading easyocr-1.7.1-py3-none-any.whl (2.9 MB)\n",
            "\u001b[2K     \u001b[90m━━━━━━━━━━━━━━━━━━━━━━━━━━━━━━━━━━━━━━━━\u001b[0m \u001b[32m2.9/2.9 MB\u001b[0m \u001b[31m6.5 MB/s\u001b[0m eta \u001b[36m0:00:00\u001b[0m\n",
            "\u001b[?25hRequirement already satisfied: torch in /usr/local/lib/python3.10/dist-packages (from easyocr) (2.3.0+cu121)\n",
            "Requirement already satisfied: torchvision>=0.5 in /usr/local/lib/python3.10/dist-packages (from easyocr) (0.18.0+cu121)\n",
            "Requirement already satisfied: opencv-python-headless in /usr/local/lib/python3.10/dist-packages (from easyocr) (4.10.0.84)\n",
            "Requirement already satisfied: scipy in /usr/local/lib/python3.10/dist-packages (from easyocr) (1.11.4)\n",
            "Requirement already satisfied: numpy in /usr/local/lib/python3.10/dist-packages (from easyocr) (1.25.2)\n",
            "Requirement already satisfied: Pillow in /usr/local/lib/python3.10/dist-packages (from easyocr) (9.4.0)\n",
            "Requirement already satisfied: scikit-image in /usr/local/lib/python3.10/dist-packages (from easyocr) (0.19.3)\n",
            "Collecting python-bidi (from easyocr)\n",
            "  Downloading python_bidi-0.4.2-py2.py3-none-any.whl (30 kB)\n",
            "Requirement already satisfied: PyYAML in /usr/local/lib/python3.10/dist-packages (from easyocr) (6.0.1)\n",
            "Requirement already satisfied: Shapely in /usr/local/lib/python3.10/dist-packages (from easyocr) (2.0.4)\n",
            "Collecting pyclipper (from easyocr)\n",
            "  Downloading pyclipper-1.3.0.post5-cp310-cp310-manylinux_2_12_x86_64.manylinux2010_x86_64.whl (908 kB)\n",
            "\u001b[2K     \u001b[90m━━━━━━━━━━━━━━━━━━━━━━━━━━━━━━━━━━━━━━━━\u001b[0m \u001b[32m908.3/908.3 kB\u001b[0m \u001b[31m59.8 MB/s\u001b[0m eta \u001b[36m0:00:00\u001b[0m\n",
            "\u001b[?25hCollecting ninja (from easyocr)\n",
            "  Downloading ninja-1.11.1.1-py2.py3-none-manylinux1_x86_64.manylinux_2_5_x86_64.whl (307 kB)\n",
            "\u001b[2K     \u001b[90m━━━━━━━━━━━━━━━━━━━━━━━━━━━━━━━━━━━━━━━━\u001b[0m \u001b[32m307.2/307.2 kB\u001b[0m \u001b[31m42.1 MB/s\u001b[0m eta \u001b[36m0:00:00\u001b[0m\n",
            "\u001b[?25hRequirement already satisfied: filelock in /usr/local/lib/python3.10/dist-packages (from torch->easyocr) (3.15.3)\n",
            "Requirement already satisfied: typing-extensions>=4.8.0 in /usr/local/lib/python3.10/dist-packages (from torch->easyocr) (4.12.2)\n",
            "Requirement already satisfied: sympy in /usr/local/lib/python3.10/dist-packages (from torch->easyocr) (1.12.1)\n",
            "Requirement already satisfied: networkx in /usr/local/lib/python3.10/dist-packages (from torch->easyocr) (3.3)\n",
            "Requirement already satisfied: jinja2 in /usr/local/lib/python3.10/dist-packages (from torch->easyocr) (3.1.4)\n",
            "Requirement already satisfied: fsspec in /usr/local/lib/python3.10/dist-packages (from torch->easyocr) (2023.6.0)\n",
            "Collecting nvidia-cuda-nvrtc-cu12==12.1.105 (from torch->easyocr)\n",
            "  Using cached nvidia_cuda_nvrtc_cu12-12.1.105-py3-none-manylinux1_x86_64.whl (23.7 MB)\n",
            "Collecting nvidia-cuda-runtime-cu12==12.1.105 (from torch->easyocr)\n",
            "  Using cached nvidia_cuda_runtime_cu12-12.1.105-py3-none-manylinux1_x86_64.whl (823 kB)\n",
            "Collecting nvidia-cuda-cupti-cu12==12.1.105 (from torch->easyocr)\n",
            "  Using cached nvidia_cuda_cupti_cu12-12.1.105-py3-none-manylinux1_x86_64.whl (14.1 MB)\n",
            "Collecting nvidia-cudnn-cu12==8.9.2.26 (from torch->easyocr)\n",
            "  Using cached nvidia_cudnn_cu12-8.9.2.26-py3-none-manylinux1_x86_64.whl (731.7 MB)\n",
            "Collecting nvidia-cublas-cu12==12.1.3.1 (from torch->easyocr)\n",
            "  Using cached nvidia_cublas_cu12-12.1.3.1-py3-none-manylinux1_x86_64.whl (410.6 MB)\n",
            "Collecting nvidia-cufft-cu12==11.0.2.54 (from torch->easyocr)\n",
            "  Using cached nvidia_cufft_cu12-11.0.2.54-py3-none-manylinux1_x86_64.whl (121.6 MB)\n",
            "Collecting nvidia-curand-cu12==10.3.2.106 (from torch->easyocr)\n",
            "  Using cached nvidia_curand_cu12-10.3.2.106-py3-none-manylinux1_x86_64.whl (56.5 MB)\n",
            "Collecting nvidia-cusolver-cu12==11.4.5.107 (from torch->easyocr)\n",
            "  Using cached nvidia_cusolver_cu12-11.4.5.107-py3-none-manylinux1_x86_64.whl (124.2 MB)\n",
            "Collecting nvidia-cusparse-cu12==12.1.0.106 (from torch->easyocr)\n",
            "  Using cached nvidia_cusparse_cu12-12.1.0.106-py3-none-manylinux1_x86_64.whl (196.0 MB)\n",
            "Collecting nvidia-nccl-cu12==2.20.5 (from torch->easyocr)\n",
            "  Using cached nvidia_nccl_cu12-2.20.5-py3-none-manylinux2014_x86_64.whl (176.2 MB)\n",
            "Collecting nvidia-nvtx-cu12==12.1.105 (from torch->easyocr)\n",
            "  Using cached nvidia_nvtx_cu12-12.1.105-py3-none-manylinux1_x86_64.whl (99 kB)\n",
            "Requirement already satisfied: triton==2.3.0 in /usr/local/lib/python3.10/dist-packages (from torch->easyocr) (2.3.0)\n",
            "Collecting nvidia-nvjitlink-cu12 (from nvidia-cusolver-cu12==11.4.5.107->torch->easyocr)\n",
            "  Downloading nvidia_nvjitlink_cu12-12.5.40-py3-none-manylinux2014_x86_64.whl (21.3 MB)\n",
            "\u001b[2K     \u001b[90m━━━━━━━━━━━━━━━━━━━━━━━━━━━━━━━━━━━━━━━━\u001b[0m \u001b[32m21.3/21.3 MB\u001b[0m \u001b[31m62.4 MB/s\u001b[0m eta \u001b[36m0:00:00\u001b[0m\n",
            "\u001b[?25hRequirement already satisfied: six in /usr/local/lib/python3.10/dist-packages (from python-bidi->easyocr) (1.16.0)\n",
            "Requirement already satisfied: imageio>=2.4.1 in /usr/local/lib/python3.10/dist-packages (from scikit-image->easyocr) (2.31.6)\n",
            "Requirement already satisfied: tifffile>=2019.7.26 in /usr/local/lib/python3.10/dist-packages (from scikit-image->easyocr) (2024.6.18)\n",
            "Requirement already satisfied: PyWavelets>=1.1.1 in /usr/local/lib/python3.10/dist-packages (from scikit-image->easyocr) (1.6.0)\n",
            "Requirement already satisfied: packaging>=20.0 in /usr/local/lib/python3.10/dist-packages (from scikit-image->easyocr) (24.1)\n",
            "Requirement already satisfied: MarkupSafe>=2.0 in /usr/local/lib/python3.10/dist-packages (from jinja2->torch->easyocr) (2.1.5)\n",
            "Requirement already satisfied: mpmath<1.4.0,>=1.1.0 in /usr/local/lib/python3.10/dist-packages (from sympy->torch->easyocr) (1.3.0)\n",
            "Installing collected packages: pyclipper, ninja, python-bidi, nvidia-nvtx-cu12, nvidia-nvjitlink-cu12, nvidia-nccl-cu12, nvidia-curand-cu12, nvidia-cufft-cu12, nvidia-cuda-runtime-cu12, nvidia-cuda-nvrtc-cu12, nvidia-cuda-cupti-cu12, nvidia-cublas-cu12, nvidia-cusparse-cu12, nvidia-cudnn-cu12, nvidia-cusolver-cu12, easyocr\n",
            "Successfully installed easyocr-1.7.1 ninja-1.11.1.1 nvidia-cublas-cu12-12.1.3.1 nvidia-cuda-cupti-cu12-12.1.105 nvidia-cuda-nvrtc-cu12-12.1.105 nvidia-cuda-runtime-cu12-12.1.105 nvidia-cudnn-cu12-8.9.2.26 nvidia-cufft-cu12-11.0.2.54 nvidia-curand-cu12-10.3.2.106 nvidia-cusolver-cu12-11.4.5.107 nvidia-cusparse-cu12-12.1.0.106 nvidia-nccl-cu12-2.20.5 nvidia-nvjitlink-cu12-12.5.40 nvidia-nvtx-cu12-12.1.105 pyclipper-1.3.0.post5 python-bidi-0.4.2\n"
          ]
        }
      ],
      "source": [
        "!pip install tesseract\n",
        "!pip install easyocr"
      ]
    },
    {
      "cell_type": "code",
      "source": [
        "import zipfile\n",
        "zipfile.ZipFile('/content/images.zip', 'r')\n",
        "zipfile.ZipFile('/content/images.zip', 'r').extractall()\n",
        "zipfile.ZipFile('/content/images.zip', 'r').close()"
      ],
      "metadata": {
        "id": "_1LMwSGpJFn8"
      },
      "execution_count": 4,
      "outputs": []
    },
    {
      "cell_type": "code",
      "source": [
        "import os\n",
        "import numpy as np\n",
        "import tensorflow as tf\n",
        "from tensorflow.keras.layers import Embedding, SimpleRNN, Dense\n",
        "from tensorflow.keras.models import Sequential\n",
        "import easyocr\n"
      ],
      "metadata": {
        "id": "mSAs8r5AHIgw"
      },
      "execution_count": 65,
      "outputs": []
    },
    {
      "cell_type": "code",
      "source": [
        "# Function to load images and extract text using EasyOCR\n",
        "def load_and_extract_text(image_folder):\n",
        "    reader = easyocr.Reader(['en'])\n",
        "    texts = []\n",
        "\n",
        "    for filename in os.listdir(image_folder):\n",
        "        if filename.endswith(\".png\") or filename.endswith(\".jpg\"):\n",
        "            image_path = os.path.join(image_folder, filename)\n",
        "            result = reader.readtext(image_path, detail=0)\n",
        "            if result:\n",
        "                texts.append(\" \".join(result))\n",
        "\n",
        "    return texts\n",
        "\n",
        "image_folder = '/content/images'  # Replace with your image folder path\n",
        "texts = load_and_extract_text(image_folder)\n",
        "if not texts:\n",
        "    raise ValueError(\"No text data was extracted from the images.\")\n"
      ],
      "metadata": {
        "id": "eEhxOFxsIk9h"
      },
      "execution_count": 101,
      "outputs": []
    },
    {
      "cell_type": "code",
      "source": [
        "texts"
      ],
      "metadata": {
        "colab": {
          "base_uri": "https://localhost:8080/"
        },
        "id": "CZIaKeh6K2kO",
        "outputId": "1894d706-134c-424c-c60e-98816fa2b6d9"
      },
      "execution_count": 102,
      "outputs": [
        {
          "output_type": "execute_result",
          "data": {
            "text/plain": [
              "['Tonegrenz 83n227',\n",
              " 'Luhou beuuuuwu',\n",
              " '@nbk GauUaGaL',\n",
              " 'Jte m 2 Ils ? 3oCon',\n",
              " \"'eueprae Butota\",\n",
              " 'Genne4 624  uhtol',\n",
              " '2 2 kem Reexe Bon c6l',\n",
              " 'PDeudule} Vu']"
            ]
          },
          "metadata": {},
          "execution_count": 102
        }
      ]
    },
    {
      "cell_type": "code",
      "source": [
        "# Create character-level vocabulary\n",
        "vocab = sorted(set(\"\".join(texts)))\n",
        "char2idx = {c: i for i, c in enumerate(vocab)}\n",
        "idx2char = np.array(vocab)"
      ],
      "metadata": {
        "id": "U2WMIAw0Ivu1"
      },
      "execution_count": 103,
      "outputs": []
    },
    {
      "cell_type": "code",
      "source": [
        "idx2char"
      ],
      "metadata": {
        "colab": {
          "base_uri": "https://localhost:8080/"
        },
        "id": "gvjWhe_lLD8g",
        "outputId": "981e951d-fc7a-4247-8563-8c7c40d31dba"
      },
      "execution_count": 104,
      "outputs": [
        {
          "output_type": "execute_result",
          "data": {
            "text/plain": [
              "array([' ', \"'\", '2', '3', '4', '6', '7', '8', '?', '@', 'B', 'C', 'D',\n",
              "       'G', 'I', 'J', 'L', 'P', 'R', 'T', 'U', 'V', 'a', 'b', 'c', 'd',\n",
              "       'e', 'g', 'h', 'k', 'l', 'm', 'n', 'o', 'p', 'r', 's', 't', 'u',\n",
              "       'w', 'x', 'z', '}'], dtype='<U1')"
            ]
          },
          "metadata": {},
          "execution_count": 104
        }
      ]
    },
    {
      "cell_type": "code",
      "source": [
        "# Convert texts to sequences of integers\n",
        "def text_to_int(text):\n",
        "    return np.array([char2idx[c] for c in text])\n",
        "\n",
        "# Convert all texts to integer sequences\n",
        "sequences = [text_to_int(text) for text in texts]\n",
        "\n",
        "if not sequences:\n",
        "    raise ValueError(\"Text sequences are empty.\")\n",
        "\n",
        "print(f\"Sample sequence: {sequences[0]}\")  # Debugging line"
      ],
      "metadata": {
        "colab": {
          "base_uri": "https://localhost:8080/"
        },
        "id": "fkSvdin-J1Rz",
        "outputId": "7cc49960-1883-497c-a3d3-a9f7cf5a733b"
      },
      "execution_count": 106,
      "outputs": [
        {
          "output_type": "stream",
          "name": "stdout",
          "text": [
            "Sample sequence: [19 33 32 26 27 35 26 32 41  0  7  3 32  2  2  6]\n"
          ]
        }
      ]
    },
    {
      "cell_type": "code",
      "source": [
        "# Flatten sequences and create input-output pairs for training\n",
        "input_text = np.concatenate(sequences[:-1])\n",
        "target_text = np.concatenate(sequences[1:])\n",
        "\n",
        "if input_text.size == 0 or target_text.size == 0:\n",
        "    raise ValueError(\"Flattened input or target text arrays are empty.\")"
      ],
      "metadata": {
        "id": "yNH-qhHtJ9CK"
      },
      "execution_count": 74,
      "outputs": []
    },
    {
      "cell_type": "code",
      "source": [
        "print(input_text)\n",
        "print(target_text)"
      ],
      "metadata": {
        "colab": {
          "base_uri": "https://localhost:8080/"
        },
        "id": "_hnf7iVbLUAM",
        "outputId": "bf4e982a-aa98-49c5-da9e-83992f9c8973"
      },
      "execution_count": 75,
      "outputs": [
        {
          "output_type": "stream",
          "name": "stdout",
          "text": [
            "[19 33 32 26 27 35 26 32 41  0  7  3 32  2  2  6 16 38 28 33 38  0 23 26\n",
            " 38 38 38 38 39 38  9 32 23 29  0 13 22 38 20 22 13 22 16 15 37 26  0 31\n",
            "  0  2  0 14 30 36  0  8  0  3 33 11 33 32  1 26 38 26 34 35 22 26  0 10\n",
            " 38 37 33 37 22 13 26 32 32 26  4  0  5  2  4  0  0 38 28 37 33 30  2  0\n",
            "  2  0 29 26 31  0 18 26 26 40 26  0 10 33 32  0 24  5 30]\n",
            "[16 38 28 33 38  0 23 26 38 38 38 38 39 38  9 32 23 29  0 13 22 38 20 22\n",
            " 13 22 16 15 37 26  0 31  0  2  0 14 30 36  0  8  0  3 33 11 33 32  1 26\n",
            " 38 26 34 35 22 26  0 10 38 37 33 37 22 13 26 32 32 26  4  0  5  2  4  0\n",
            "  0 38 28 37 33 30  2  0  2  0 29 26 31  0 18 26 26 40 26  0 10 33 32  0\n",
            " 24  5 30 17 12 26 38 25 38 30 26 42  0 21 38]\n"
          ]
        }
      ]
    },
    {
      "cell_type": "code",
      "source": [
        "# Flatten sequences and create input-output pairs for training\n",
        "input_text = np.concatenate(sequences[:-1])\n",
        "target_text = np.concatenate(sequences[1:])\n",
        "\n",
        "if input_text.size == 0 or target_text.size == 0:\n",
        "    raise ValueError(\"Flattened input or target text arrays are empty.\")\n",
        "\n",
        "# Set sequence length for training\n",
        "seq_length = 100\n",
        "examples_per_epoch = len(input_text) // seq_length\n",
        "\n",
        "input_text = input_text[:examples_per_epoch * seq_length]\n",
        "target_text = target_text[:examples_per_epoch * seq_length]\n",
        "\n",
        "if input_text.size == 0 or target_text.size == 0:\n",
        "    raise ValueError(\"Reshaped input or target text arrays are empty.\")\n"
      ],
      "metadata": {
        "id": "gAKRkIfTJ9nv"
      },
      "execution_count": 108,
      "outputs": []
    },
    {
      "cell_type": "code",
      "source": [
        "input_text = input_text.reshape((examples_per_epoch, seq_length))\n",
        "target_text = target_text.reshape((examples_per_epoch, seq_length))\n"
      ],
      "metadata": {
        "id": "TCXtY9XtUsB-"
      },
      "execution_count": 109,
      "outputs": []
    },
    {
      "cell_type": "code",
      "source": [
        "print(input_text)\n",
        "print(target_text)"
      ],
      "metadata": {
        "colab": {
          "base_uri": "https://localhost:8080/"
        },
        "id": "vuiqDh7TLbiw",
        "outputId": "897de0d4-451a-44d9-bab9-c544cde88639"
      },
      "execution_count": 110,
      "outputs": [
        {
          "output_type": "stream",
          "name": "stdout",
          "text": [
            "[[19 33 32 26 27 35 26 32 41  0  7  3 32  2  2  6 16 38 28 33 38  0 23 26\n",
            "  38 38 38 38 39 38  9 32 23 29  0 13 22 38 20 22 13 22 16 15 37 26  0 31\n",
            "   0  2  0 14 30 36  0  8  0  3 33 11 33 32  1 26 38 26 34 35 22 26  0 10\n",
            "  38 37 33 37 22 13 26 32 32 26  4  0  5  2  4  0  0 38 28 37 33 30  2  0\n",
            "   2  0 29 26]]\n",
            "[[16 38 28 33 38  0 23 26 38 38 38 38 39 38  9 32 23 29  0 13 22 38 20 22\n",
            "  13 22 16 15 37 26  0 31  0  2  0 14 30 36  0  8  0  3 33 11 33 32  1 26\n",
            "  38 26 34 35 22 26  0 10 38 37 33 37 22 13 26 32 32 26  4  0  5  2  4  0\n",
            "   0 38 28 37 33 30  2  0  2  0 29 26 31  0 18 26 26 40 26  0 10 33 32  0\n",
            "  24  5 30 17]]\n"
          ]
        }
      ]
    },
    {
      "cell_type": "code",
      "source": [
        "import numpy as np\n",
        "import tensorflow as tf\n",
        "\n",
        "# Generate synthetic text data\n",
        "num_samples = 1000  # Number of samples\n",
        "seq_length = 100     # Sequence length for each sample\n",
        "vocab_size = 26      # Vocabulary size (letters a-z)\n",
        "\n",
        "# Create random sequences of integers (simulating character indices)\n",
        "input_text = np.random.randint(vocab_size, size=(num_samples, seq_length))\n",
        "target_text = np.roll(input_text, shift=-1, axis=1)  # Shift input sequence to create target sequence\n",
        "\n",
        "# Create TensorFlow dataset\n",
        "dataset = tf.data.Dataset.from_tensor_slices((input_text, target_text))\n",
        "dataset = dataset.shuffle(10000).batch(64, drop_remainder=True)\n",
        "\n",
        "# Verify dataset size\n",
        "dataset_size = len(list(dataset))\n",
        "print(f\"Dataset size: {dataset_size}\")\n",
        "\n",
        "# Verify dataset content by printing out a few examples\n",
        "for i, (input_example, target_example) in enumerate(dataset.take(1)):\n",
        "    print(f\"Batch {i} - Input shape: {input_example.shape}, Target shape: {target_example.shape}\")\n",
        "    print(f\"Input example:\\n{input_example.numpy()}\")\n",
        "    print(f\"Target example:\\n{target_example.numpy()}\")\n"
      ],
      "metadata": {
        "colab": {
          "base_uri": "https://localhost:8080/"
        },
        "id": "PIrvMF5aOTEh",
        "outputId": "bf97cedf-d17b-4770-ae04-bc97e5666eab"
      },
      "execution_count": 112,
      "outputs": [
        {
          "output_type": "stream",
          "name": "stdout",
          "text": [
            "Dataset size: 15\n",
            "Batch 0 - Input shape: (64, 100), Target shape: (64, 100)\n",
            "Input example:\n",
            "[[15 10  9 ...  7  9  0]\n",
            " [19  5 23 ... 24 12 13]\n",
            " [25 25  7 ... 17 20  9]\n",
            " ...\n",
            " [ 9 20 22 ... 23 17 25]\n",
            " [23  3  3 ... 22 15 20]\n",
            " [ 4  6 17 ...  3 17 10]]\n",
            "Target example:\n",
            "[[10  9  3 ...  9  0 15]\n",
            " [ 5 23 14 ... 12 13 19]\n",
            " [25  7 10 ... 20  9 25]\n",
            " ...\n",
            " [20 22 14 ... 17 25  9]\n",
            " [ 3  3 16 ... 15 20 23]\n",
            " [ 6 17 24 ... 17 10  4]]\n"
          ]
        }
      ]
    },
    {
      "cell_type": "code",
      "source": [
        "# Define the RNN model\n",
        "embedding_dim = 256\n",
        "rnn_units = 1024\n",
        "\n",
        "model = Sequential([\n",
        "    Embedding(vocab_size, embedding_dim, batch_input_shape=[64, None]),\n",
        "    SimpleRNN(rnn_units, return_sequences=True, stateful=True, recurrent_initializer='glorot_uniform'),\n",
        "    Dense(vocab_size)\n",
        "])\n",
        "\n",
        "model.summary()"
      ],
      "metadata": {
        "colab": {
          "base_uri": "https://localhost:8080/"
        },
        "id": "cQYXreD6KRCQ",
        "outputId": "69b98b8c-dcf3-4d6e-ed55-b33c5b5f88f7"
      },
      "execution_count": 113,
      "outputs": [
        {
          "output_type": "stream",
          "name": "stdout",
          "text": [
            "Model: \"sequential_8\"\n",
            "_________________________________________________________________\n",
            " Layer (type)                Output Shape              Param #   \n",
            "=================================================================\n",
            " embedding_8 (Embedding)     (64, None, 256)           6656      \n",
            "                                                                 \n",
            " simple_rnn_8 (SimpleRNN)    (64, None, 1024)          1311744   \n",
            "                                                                 \n",
            " dense_8 (Dense)             (64, None, 26)            26650     \n",
            "                                                                 \n",
            "=================================================================\n",
            "Total params: 1345050 (5.13 MB)\n",
            "Trainable params: 1345050 (5.13 MB)\n",
            "Non-trainable params: 0 (0.00 Byte)\n",
            "_________________________________________________________________\n"
          ]
        }
      ]
    },
    {
      "cell_type": "code",
      "source": [
        "# Compile the model\n",
        "def loss(labels, logits):\n",
        "    return tf.keras.losses.sparse_categorical_crossentropy(labels, logits, from_logits=True)\n",
        "\n",
        "model.compile(optimizer='adam', loss=loss)\n"
      ],
      "metadata": {
        "id": "1v8GmZKQKVIS"
      },
      "execution_count": 114,
      "outputs": []
    },
    {
      "cell_type": "code",
      "source": [
        "epochs = 10\n",
        "history = model.fit(dataset, epochs=epochs)"
      ],
      "metadata": {
        "colab": {
          "base_uri": "https://localhost:8080/"
        },
        "id": "LwqWagP7KYwG",
        "outputId": "640919d6-778d-4473-df0a-62ee7bf97450"
      },
      "execution_count": 115,
      "outputs": [
        {
          "output_type": "stream",
          "name": "stdout",
          "text": [
            "Epoch 1/10\n",
            "15/15 [==============================] - 4s 266ms/step - loss: 3.3459\n",
            "Epoch 2/10\n",
            "15/15 [==============================] - 4s 265ms/step - loss: 3.2900\n",
            "Epoch 3/10\n",
            "15/15 [==============================] - 4s 291ms/step - loss: 3.2847\n",
            "Epoch 4/10\n",
            "15/15 [==============================] - 4s 262ms/step - loss: 3.2788\n",
            "Epoch 5/10\n",
            "15/15 [==============================] - 5s 317ms/step - loss: 3.2741\n",
            "Epoch 6/10\n",
            "15/15 [==============================] - 5s 339ms/step - loss: 3.2678\n",
            "Epoch 7/10\n",
            "15/15 [==============================] - 4s 269ms/step - loss: 3.2658\n",
            "Epoch 8/10\n",
            "15/15 [==============================] - 4s 264ms/step - loss: 3.2656\n",
            "Epoch 9/10\n",
            "15/15 [==============================] - 4s 264ms/step - loss: 3.2667\n",
            "Epoch 10/10\n",
            "15/15 [==============================] - 5s 314ms/step - loss: 3.2658\n"
          ]
        }
      ]
    },
    {
      "cell_type": "code",
      "source": [],
      "metadata": {
        "id": "nCFpyKMjXeTq"
      },
      "execution_count": null,
      "outputs": []
    }
  ]
}