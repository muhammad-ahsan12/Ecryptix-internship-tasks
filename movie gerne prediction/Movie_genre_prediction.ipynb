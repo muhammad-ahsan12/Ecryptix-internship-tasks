{
  "nbformat": 4,
  "nbformat_minor": 0,
  "metadata": {
    "colab": {
      "provenance": [],
      "gpuType": "V28"
    },
    "kernelspec": {
      "name": "python3",
      "display_name": "Python 3"
    },
    "language_info": {
      "name": "python"
    },
    "accelerator": "TPU"
  },
  "cells": [
    {
      "cell_type": "code",
      "source": [
        "!mkdir -p ~/.kaggle\n",
        "!cp kaggle.json ~/.kaggle/"
      ],
      "metadata": {
        "id": "jU2ZXQT0iwhx"
      },
      "execution_count": 1,
      "outputs": []
    },
    {
      "cell_type": "code",
      "source": [
        "!kaggle datasets download -d guru001/movie-genre-prediction"
      ],
      "metadata": {
        "colab": {
          "base_uri": "https://localhost:8080/"
        },
        "id": "ri3UYnSYixxO",
        "outputId": "b5c56214-3aeb-482b-b7c1-d05e5758e5f0"
      },
      "execution_count": 2,
      "outputs": [
        {
          "output_type": "stream",
          "name": "stdout",
          "text": [
            "Warning: Your Kaggle API key is readable by other users on this system! To fix this, you can run 'chmod 600 /root/.kaggle/kaggle.json'\n",
            "Dataset URL: https://www.kaggle.com/datasets/guru001/movie-genre-prediction\n",
            "License(s): DbCL-1.0\n",
            "Downloading movie-genre-prediction.zip to /content\n",
            " 72% 5.00M/6.94M [00:00<00:00, 46.6MB/s]\n",
            "100% 6.94M/6.94M [00:00<00:00, 61.3MB/s]\n"
          ]
        }
      ]
    },
    {
      "cell_type": "code",
      "source": [
        "import zipfile\n",
        "zip_ref = zipfile.ZipFile('movie-genre-prediction.zip', 'r')\n",
        "zip_ref.extractall()\n",
        "zip_ref.close()"
      ],
      "metadata": {
        "id": "aq__Ii3_i3IO"
      },
      "execution_count": 3,
      "outputs": []
    },
    {
      "cell_type": "code",
      "execution_count": 4,
      "metadata": {
        "id": "g44n67zqYcRe"
      },
      "outputs": [],
      "source": [
        "import pandas as pd\n",
        "from sklearn.model_selection import train_test_split\n",
        "from sklearn.feature_extraction.text import TfidfVectorizer\n",
        "from sklearn.naive_bayes import MultinomialNB\n",
        "from sklearn.linear_model import LogisticRegression\n",
        "from sklearn.svm import SVC\n",
        "from sklearn.metrics import accuracy_score, classification_report"
      ]
    },
    {
      "cell_type": "code",
      "source": [
        "train_data = pd.read_csv('/content/train.csv')\n",
        "test_data = pd.read_csv('/content/test.csv')\n",
        "sample_submission = pd.read_csv('/content/sample_submission.csv')\n",
        "print(train_data.head())\n",
        "print(test_data.head())\n",
        "print(sample_submission.head())\n"
      ],
      "metadata": {
        "colab": {
          "base_uri": "https://localhost:8080/"
        },
        "id": "W41RE5A9jjeS",
        "outputId": "55415103-9843-4761-84d2-2ee7ddea22ca"
      },
      "execution_count": 30,
      "outputs": [
        {
          "output_type": "stream",
          "name": "stdout",
          "text": [
            "      id                                         movie_name  \\\n",
            "0  44978                                           Super Me   \n",
            "1  50185                                     Entity Project   \n",
            "2  34131  Behavioral Family Therapy for Serious Psychiat...   \n",
            "3  78522                                      Blood Glacier   \n",
            "4   2206                                      Apat na anino   \n",
            "\n",
            "                                            synopsis    genre  \n",
            "0  A young scriptwriter starts bringing valuable ...  fantasy  \n",
            "1  A director and her friends renting a haunted h...   horror  \n",
            "2  This is an educational video for families and ...   family  \n",
            "3  Scientists working in the Austrian Alps discov...    scifi  \n",
            "4  Buy Day - Four Men Widely - Apart in Life - By...   action  \n",
            "      id          movie_name  \\\n",
            "0  16863    A Death Sentence   \n",
            "1  48456          Intermedio   \n",
            "2  41383    30 Chua Phai Tet   \n",
            "3  84007           Paranoiac   \n",
            "4  40269  Ordinary Happiness   \n",
            "\n",
            "                                            synopsis   genre  \n",
            "0  12 y.o. Ida's dad'll die without a DKK1,500,00...  action  \n",
            "1  A group of four teenage friends become trapped...  action  \n",
            "2  A guy left his home for 12 years till he came ...  action  \n",
            "3  A man long believed dead returns to the family...  action  \n",
            "4  After a deadly accident, Paolo comes back on E...  action  \n",
            "      id   genre\n",
            "0  57609  action\n",
            "1  30111  action\n",
            "2  36119  action\n",
            "3  65901  action\n",
            "4  41910  action\n"
          ]
        }
      ]
    },
    {
      "cell_type": "code",
      "source": [
        "train_data['synopsis'][3]"
      ],
      "metadata": {
        "colab": {
          "base_uri": "https://localhost:8080/",
          "height": 36
        },
        "id": "8GvT9CERCCfS",
        "outputId": "62466096-6ebe-4888-9e8c-a7b451e155bd"
      },
      "execution_count": 31,
      "outputs": [
        {
          "output_type": "execute_result",
          "data": {
            "text/plain": [
              "'Scientists working in the Austrian Alps discover that a glacier is leaking a liquid that appears to be affecting local wildlife.'"
            ],
            "application/vnd.google.colaboratory.intrinsic+json": {
              "type": "string"
            }
          },
          "metadata": {},
          "execution_count": 31
        }
      ]
    },
    {
      "cell_type": "code",
      "source": [
        "print(train_data.shape)\n",
        "print(test_data.shape)\n",
        "print(sample_submission.shape)"
      ],
      "metadata": {
        "colab": {
          "base_uri": "https://localhost:8080/"
        },
        "id": "U7OGPNfzl_SG",
        "outputId": "5ab27ae4-2041-45c6-8778-9bd088bd1443"
      },
      "execution_count": 32,
      "outputs": [
        {
          "output_type": "stream",
          "name": "stdout",
          "text": [
            "(54000, 4)\n",
            "(36000, 4)\n",
            "(36000, 2)\n"
          ]
        }
      ]
    },
    {
      "cell_type": "code",
      "source": [
        "X_train_texts = train_data[['movie_name','synopsis']]\n",
        "y_train = train_data['genre']\n",
        "X_test_texts = test_data[['movie_name','synopsis']]"
      ],
      "metadata": {
        "id": "xjjnHk0pmFJn"
      },
      "execution_count": 37,
      "outputs": []
    },
    {
      "cell_type": "code",
      "source": [
        "X_train_combined = X_train_texts['movie_name'] + ' ' + X_train_texts['synopsis']\n",
        "X_test_combined = X_test_texts['movie_name'] + ' ' + X_test_texts['synopsis']\n",
        "\n",
        "tf_idf = TfidfVectorizer(stop_words='english', max_features=2000)\n",
        "\n",
        "X_train = tf_idf.fit_transform(X_train_combined)\n",
        "\n",
        "X_test = tf_idf.transform(X_test_combined)"
      ],
      "metadata": {
        "id": "Sc_ppfHvnKV0"
      },
      "execution_count": 42,
      "outputs": []
    },
    {
      "cell_type": "code",
      "source": [
        "print(X_train)"
      ],
      "metadata": {
        "colab": {
          "base_uri": "https://localhost:8080/"
        },
        "id": "zuPNp0i9nMN5",
        "outputId": "d5300fdf-c929-4485-de1d-8af430749a41"
      },
      "execution_count": 43,
      "outputs": [
        {
          "output_type": "stream",
          "name": "stdout",
          "text": [
            "  (0, 1471)\t0.29353534677396786\n",
            "  (0, 1091)\t0.29249883330495946\n",
            "  (0, 1562)\t0.378798806012096\n",
            "  (0, 444)\t0.3148953865719784\n",
            "  (0, 1228)\t0.3557654045995397\n",
            "  (0, 1590)\t0.32041095258291213\n",
            "  (0, 1887)\t0.38520981158847256\n",
            "  (0, 1662)\t0.2891229794495027\n",
            "  (0, 1993)\t0.16433166438822286\n",
            "  (0, 1712)\t0.3121185656664266\n",
            "  (1, 1339)\t0.31993090355285425\n",
            "  (1, 1379)\t0.30793410495562995\n",
            "  (1, 1261)\t0.23682318115654416\n",
            "  (1, 582)\t0.2562810429563408\n",
            "  (1, 1283)\t0.3261767331080127\n",
            "  (1, 233)\t0.3324240191558813\n",
            "  (1, 864)\t0.23006002209683163\n",
            "  (1, 798)\t0.26737215444334234\n",
            "  (1, 705)\t0.20559944434534022\n",
            "  (1, 481)\t0.31154877733191527\n",
            "  (1, 1374)\t0.28694985538358286\n",
            "  (1, 568)\t0.34361191436956423\n",
            "  (2, 427)\t0.44140985739069505\n",
            "  (2, 623)\t0.4033142743091302\n",
            "  (2, 1902)\t0.3851647654887759\n",
            "  :\t:\n",
            "  (53997, 235)\t0.21571959737015622\n",
            "  (53997, 1133)\t0.3804447844839613\n",
            "  (53998, 392)\t0.2962018834518496\n",
            "  (53998, 1840)\t0.26174765058356503\n",
            "  (53998, 565)\t0.3307247780144783\n",
            "  (53998, 1316)\t0.26311091967601735\n",
            "  (53998, 1300)\t0.21759764843615684\n",
            "  (53998, 795)\t0.3066914758318995\n",
            "  (53998, 320)\t0.3671981922315321\n",
            "  (53998, 85)\t0.3560580027912159\n",
            "  (53998, 360)\t0.3243644216005639\n",
            "  (53998, 1795)\t0.20661496939801446\n",
            "  (53998, 571)\t0.2534150967754459\n",
            "  (53998, 299)\t0.2236178219017595\n",
            "  (53999, 1955)\t0.28078855051356855\n",
            "  (53999, 1180)\t0.5229154887566367\n",
            "  (53999, 533)\t0.26811398643253054\n",
            "  (53999, 1300)\t0.16587309122208269\n",
            "  (53999, 1090)\t0.18692703588264906\n",
            "  (53999, 1044)\t0.1949040972282528\n",
            "  (53999, 1826)\t0.5381515994662612\n",
            "  (53999, 1047)\t0.17213344712543008\n",
            "  (53999, 1509)\t0.23521519668627763\n",
            "  (53999, 1036)\t0.2631691201792398\n",
            "  (53999, 864)\t0.17767279856774093\n"
          ]
        }
      ]
    },
    {
      "cell_type": "code",
      "source": [
        "X_train, X_val, y_train, y_val = train_test_split(X_train, y_train, test_size=0.2)"
      ],
      "metadata": {
        "id": "VIRTZffgsl9h"
      },
      "execution_count": 44,
      "outputs": []
    },
    {
      "cell_type": "code",
      "source": [
        "X_train.shape, X_val.shape, y_train.shape, y_val.shape"
      ],
      "metadata": {
        "colab": {
          "base_uri": "https://localhost:8080/"
        },
        "id": "J3-R6grTsmhi",
        "outputId": "a440c765-7ce0-458a-b828-adbef7ef75f1"
      },
      "execution_count": 45,
      "outputs": [
        {
          "output_type": "execute_result",
          "data": {
            "text/plain": [
              "((43200, 2000), (10800, 2000), (43200,), (10800,))"
            ]
          },
          "metadata": {},
          "execution_count": 45
        }
      ]
    },
    {
      "cell_type": "code",
      "source": [
        "NB_model = MultinomialNB()\n",
        "NB_model.fit(X_train, y_train)\n",
        "\n",
        "y_pred = NB_model.predict(X_val)\n",
        "accuracy = accuracy_score(y_val, y_pred)\n",
        "print(\"Naive Bayes Accuracy:\", accuracy)\n",
        "print(classification_report(y_val, y_pred))\n",
        "\n",
        "y_pred = NB_model.predict(X_test)\n",
        "sample_submission['genre'] = y_pred\n",
        "sample_submission.to_csv('submission_NB.csv', index=False)"
      ],
      "metadata": {
        "colab": {
          "base_uri": "https://localhost:8080/"
        },
        "id": "cUW3w8CbsqAJ",
        "outputId": "9bf19499-f6dc-4d2e-a0f3-e7724ff6ebc3"
      },
      "execution_count": 46,
      "outputs": [
        {
          "output_type": "stream",
          "name": "stdout",
          "text": [
            "Naive Bayes Accuracy: 0.35638888888888887\n",
            "              precision    recall  f1-score   support\n",
            "\n",
            "      action       0.31      0.26      0.28      1086\n",
            "   adventure       0.27      0.23      0.25      1022\n",
            "       crime       0.35      0.40      0.38      1089\n",
            "      family       0.39      0.44      0.42      1056\n",
            "     fantasy       0.31      0.27      0.29      1085\n",
            "      horror       0.39      0.45      0.42      1077\n",
            "     mystery       0.33      0.28      0.30      1143\n",
            "     romance       0.42      0.56      0.48      1079\n",
            "       scifi       0.43      0.50      0.46      1109\n",
            "    thriller       0.25      0.14      0.18      1054\n",
            "\n",
            "    accuracy                           0.36     10800\n",
            "   macro avg       0.34      0.36      0.35     10800\n",
            "weighted avg       0.34      0.36      0.35     10800\n",
            "\n"
          ]
        }
      ]
    },
    {
      "cell_type": "code",
      "source": [
        "LR_model = LogisticRegression(max_iter=1000)\n",
        "LR_model.fit(X_train, y_train)\n",
        "\n",
        "y_pred = LR_model.predict(X_val)\n",
        "accuracy = accuracy_score(y_val, y_pred)\n",
        "print(\"Logistic Regression Accuracy:\", accuracy)\n",
        "print(classification_report(y_val, y_pred))\n",
        "\n",
        "y_pred = LR_model.predict(X_test)\n",
        "sample_submission['genre'] = y_pred\n",
        "sample_submission.to_csv('submission_LR.csv', index=False)"
      ],
      "metadata": {
        "id": "BnW92stcvkVi",
        "colab": {
          "base_uri": "https://localhost:8080/"
        },
        "outputId": "0f049289-63d2-4fe5-d66f-723769a135db"
      },
      "execution_count": 49,
      "outputs": [
        {
          "output_type": "stream",
          "name": "stdout",
          "text": [
            "Logistic Regression Accuracy: 0.3484259259259259\n",
            "              precision    recall  f1-score   support\n",
            "\n",
            "      action       0.29      0.26      0.27      1086\n",
            "   adventure       0.25      0.24      0.25      1022\n",
            "       crime       0.34      0.35      0.35      1089\n",
            "      family       0.39      0.46      0.43      1056\n",
            "     fantasy       0.31      0.27      0.28      1085\n",
            "      horror       0.39      0.44      0.42      1077\n",
            "     mystery       0.32      0.29      0.30      1143\n",
            "     romance       0.45      0.52      0.48      1079\n",
            "       scifi       0.42      0.48      0.45      1109\n",
            "    thriller       0.22      0.17      0.19      1054\n",
            "\n",
            "    accuracy                           0.35     10800\n",
            "   macro avg       0.34      0.35      0.34     10800\n",
            "weighted avg       0.34      0.35      0.34     10800\n",
            "\n"
          ]
        }
      ]
    },
    {
      "cell_type": "code",
      "source": [
        "def predict_genre(description):\n",
        "    \"\"\"\n",
        "    Predict the genre of a movie based on its plot description.\n",
        "\n",
        "    Args:\n",
        "    description (str): The plot description of the movie.\n",
        "\n",
        "    Returns:\n",
        "    dict: A dictionary with predictions from both models.\n",
        "    \"\"\"\n",
        "    # Transform the input description using the trained TF-IDF vectorizer\n",
        "    description_transformed = tf_idf.transform([description])\n",
        "\n",
        "    # Predict genre using trained models\n",
        "    prediction_nb = NB_model.predict(description_transformed)[0]\n",
        "    prediction_lr = LR_model.predict(description_transformed)[0]\n",
        "\n",
        "    return {\n",
        "        'Naive Bayes': prediction_nb,\n",
        "        'Logistic Regression': prediction_lr\n",
        "    }\n",
        "\n",
        "# Example usage\n",
        "example_description = \"A young wizard embarks on a journey to find magical artifacts.\"\n",
        "predicted_genres = predict_genre(example_description)\n",
        "print(predicted_genres)"
      ],
      "metadata": {
        "colab": {
          "base_uri": "https://localhost:8080/"
        },
        "id": "80ITVFRC_9VK",
        "outputId": "9b290e9c-c3e2-4ba0-e997-e6d49c633e5f"
      },
      "execution_count": 48,
      "outputs": [
        {
          "output_type": "stream",
          "name": "stdout",
          "text": [
            "{'Naive Bayes': 'fantasy', 'Logistic Regression': 'fantasy'}\n"
          ]
        }
      ]
    },
    {
      "cell_type": "code",
      "source": [],
      "metadata": {
        "id": "dpj8J3_iB66-"
      },
      "execution_count": null,
      "outputs": []
    }
  ]
}